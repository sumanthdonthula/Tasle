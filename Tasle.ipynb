{
  "nbformat": 4,
  "nbformat_minor": 0,
  "metadata": {
    "colab": {
      "provenance": [],
      "gpuType": "T4"
    },
    "kernelspec": {
      "name": "python3",
      "display_name": "Python 3"
    },
    "language_info": {
      "name": "python"
    },
    "accelerator": "GPU"
  },
  "cells": [
    {
      "cell_type": "code",
      "source": [
        "!pip install opencv-python\n",
        "!pip install moviepy"
      ],
      "metadata": {
        "id": "6onA8cRR4o23"
      },
      "execution_count": null,
      "outputs": []
    },
    {
      "cell_type": "code",
      "execution_count": 94,
      "metadata": {
        "colab": {
          "base_uri": "https://localhost:8080/"
        },
        "id": "qaGyxs1ktqgI",
        "outputId": "c0fb4ec6-d657-4532-e6cb-a71c51de701b"
      },
      "outputs": [
        {
          "output_type": "stream",
          "name": "stdout",
          "text": [
            "Drive already mounted at /content/drive; to attempt to forcibly remount, call drive.mount(\"/content/drive\", force_remount=True).\n",
            "Moviepy - Building video /content/drive/My Drive/Car Video/processed_video.mp4.\n",
            "MoviePy - Writing audio in processed_videoTEMP_MPY_wvf_snd.mp3\n"
          ]
        },
        {
          "output_type": "stream",
          "name": "stderr",
          "text": []
        },
        {
          "output_type": "stream",
          "name": "stdout",
          "text": [
            "MoviePy - Done.\n",
            "Moviepy - Writing video /content/drive/My Drive/Car Video/processed_video.mp4\n",
            "\n"
          ]
        },
        {
          "output_type": "stream",
          "name": "stderr",
          "text": []
        },
        {
          "output_type": "stream",
          "name": "stdout",
          "text": [
            "Moviepy - Done !\n",
            "Moviepy - video ready /content/drive/My Drive/Car Video/processed_video.mp4\n"
          ]
        }
      ],
      "source": [
        "import cv2\n",
        "import numpy as np\n",
        "from google.colab import drive\n",
        "from moviepy.editor import VideoFileClip\n",
        "import matplotlib.pyplot as plt\n",
        "\n",
        "drive.mount('/content/drive')\n",
        "\n",
        "def detect_cars(image):\n",
        "    # Make a copy of the image to avoid read-only issues\n",
        "    image_copy = image.copy()\n",
        "\n",
        "    # Convert to RGB for displaying\n",
        "    image_rgb = cv2.cvtColor(image_copy, cv2.COLOR_BGR2RGB)\n",
        "\n",
        "    # Convert the image to grayscale\n",
        "    gray = cv2.cvtColor(image_copy, cv2.COLOR_BGR2GRAY)\n",
        "\n",
        "    # Apply Gaussian blur to reduce noise\n",
        "    blurred = cv2.GaussianBlur(gray, (3, 3), 0)\n",
        "\n",
        "    # Detect edges using Canny edge detection\n",
        "    edges = cv2.Canny(blurred, 30, 150)\n",
        "\n",
        "    # Find contours in the edge image\n",
        "    contours, _ = cv2.findContours(edges, cv2.RETR_EXTERNAL, cv2.CHAIN_APPROX_SIMPLE)\n",
        "\n",
        "    # Iterate through the contours and filter out non-car-like shapes\n",
        "    cars = []\n",
        "    for cnt in contours:\n",
        "        x, y, w, h = cv2.boundingRect(cnt)\n",
        "        if w > 50 and h > 50:\n",
        "            cars.append((x, y, w, h))\n",
        "\n",
        "    # Draw bounding boxes around the detected cars\n",
        "    for car in cars:\n",
        "        x, y, w, h = car\n",
        "        cv2.rectangle(image_copy, (x, y), (x + w, y + h), (0, 255, 0), 2)\n",
        "\n",
        "    # Draw the edges on the original image\n",
        "    edges_colored = cv2.cvtColor(edges, cv2.COLOR_GRAY2BGR)\n",
        "    image_with_edges = cv2.addWeighted(image_copy, 0.8, edges_colored, 1, 0)\n",
        "\n",
        "    return image_with_edges\n",
        "\n",
        "def detect_lines(image):\n",
        "    # Make a copy to avoid read-only issues\n",
        "    image_copy = image.copy()\n",
        "\n",
        "    # Define the coordinates for cropping\n",
        "    x_start, y_start = 0, 0\n",
        "    x_end, y_end = 3080, 1750\n",
        "\n",
        "    # Crop the image\n",
        "    cropped_image = image_copy[y_start:y_end, x_start:x_end]\n",
        "\n",
        "    # Convert to grayscale\n",
        "    gray = cv2.cvtColor(cropped_image, cv2.COLOR_RGB2GRAY)\n",
        "\n",
        "    # Apply Gaussian blur\n",
        "    blur = cv2.GaussianBlur(gray, (5, 5), 0)\n",
        "\n",
        "    # Detect edges using Canny\n",
        "    edges = cv2.Canny(blur, 50, 150)\n",
        "\n",
        "    # Define region of interest (ROI)\n",
        "    height, width = edges.shape[:2]\n",
        "    roi_vertices = np.array([[(0, height), (width / 2, height / 2), (width, height)]], dtype=np.int32)\n",
        "    mask = np.zeros_like(edges)\n",
        "    cv2.fillPoly(mask, roi_vertices, 255)\n",
        "    masked_edges = cv2.bitwise_and(edges, mask)\n",
        "\n",
        "    # Apply Hough transform to detect lines\n",
        "    lines = cv2.HoughLinesP(masked_edges, rho=1, theta=np.pi/180, threshold=50, minLineLength=100, maxLineGap=50)\n",
        "\n",
        "    # Draw detected lines on the cropped image\n",
        "    line_image = np.zeros_like(cropped_image)\n",
        "    if lines is not None:\n",
        "        for line in lines:\n",
        "            x1, y1, x2, y2 = line[0]\n",
        "            cv2.line(line_image, (x1, y1), (x2, y2), (255, 0, 0), 5)\n",
        "\n",
        "    # Combine the original image with the detected lines\n",
        "    result = cv2.addWeighted(cropped_image, 0.8, line_image, 1, 0)\n",
        "\n",
        "    return result\n",
        "\n",
        "def combined_processing(image):\n",
        "    # First, detect cars\n",
        "    image_with_cars = detect_cars(image)\n",
        "    # Then, draw edges and lines\n",
        "    final_image = detect_lines(image_with_cars)\n",
        "    return final_image\n",
        "\n",
        "# Example usage with VideoFileClip\n",
        "video_path = '/content/drive/My Drive/Car Video/video_input.mp4'\n",
        "clip = VideoFileClip(video_path)\n",
        "processed_clip = clip.fl_image(combined_processing)\n",
        "\n",
        "# Optionally save the processed video\n",
        "output_path = '/content/drive/My Drive/Car Video/processed_video.mp4'\n",
        "processed_clip.write_videofile(output_path, codec='libx264')\n"
      ]
    }
  ]
}